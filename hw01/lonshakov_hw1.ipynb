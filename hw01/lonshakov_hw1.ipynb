{
 "cells": [
  {
   "cell_type": "markdown",
   "metadata": {},
   "source": [
    "## Общая информация\n",
    "\n",
    "**Срок сдачи:** 5 апреля 2022, 08:30 \n",
    "\n",
    "**Штраф за опоздание:** по 1 баллу за 24 часа задержки. Через 5 дней домашнее задание сгорает.\n",
    "\n",
    "При отправлении ДЗ указывайте фамилию в названии файла\n",
    "Присылать ДЗ необходимо в виде ссылки на свой github репозиторий на почту ml1.sphere@mail.ru с указанием темы в следующем формате:\n",
    "\n",
    "[ML0220, Задание 1] Фамилия Имя.\n",
    "\n",
    "Используйте данный Ipython Notebook при оформлении домашнего задания."
   ]
  },
  {
   "cell_type": "markdown",
   "metadata": {},
   "source": [
    "\n",
    "**Штрафные баллы:**\n",
    "\n",
    "1. Отсутствие фамилии в имени скрипта (скрипт должен называться по аналогии со stroykova_hw1.ipynb) -0.5 баллов\n",
    "2. Все строчки должны быть выполнены. Нужно, чтобы output команды можно было увидеть уже в git'е. В противном случае -0.5 баллов\n"
   ]
  },
  {
   "cell_type": "code",
   "execution_count": 1,
   "metadata": {
    "tags": []
   },
   "outputs": [],
   "source": [
    "import numpy as np\n",
    "import matplotlib.pyplot as plt\n",
    "\n",
    "import seaborn as sns\n",
    "from sklearn import datasets\n",
    "from sklearn.base import BaseEstimator\n",
    "from sklearn.datasets import fetch_openml, fetch_20newsgroups\n",
    "\n",
    "from sklearn.model_selection import train_test_split\n",
    "from sklearn.neighbors import KNeighborsClassifier\n",
    "from sklearn.metrics import accuracy_score"
   ]
  },
  {
   "cell_type": "markdown",
   "metadata": {},
   "source": [
    "### Задание 1 (1 балл)\n",
    "Реализовать KNN в классе MyKNeighborsClassifier (обязательное условие: точность не ниже sklearn реализации)\n",
    "Разберитесь самостоятельно, какая мера расстояния используется в KNeighborsClassifier дефолтно и реализуйте свой алгоритм именно с этой мерой. \n",
    "Для подсчета расстояний можно использовать функции [отсюда](https://docs.scipy.org/doc/scipy/reference/spatial.distance.html)"
   ]
  },
  {
   "cell_type": "code",
   "execution_count": 2,
   "metadata": {
    "tags": []
   },
   "outputs": [],
   "source": [
    "# дефолтная функция расстояния в KNeighborsClassifier\n",
    "from sklearn.metrics.pairwise import euclidean_distances\n",
    "# KDTree\n",
    "from sklearn.neighbors import KDTree\n",
    "# функция нахождения моды выборки\n",
    "from scipy import stats\n",
    "\n",
    "class MyKNeighborsClassifier(BaseEstimator):\n",
    "    \n",
    "    def _fit_brute(self):\n",
    "        pass\n",
    "    \n",
    "    def _predict_brute(self, X):\n",
    "        distances = euclidean_distances(X, self.X_train)\n",
    "        indices = np.argpartition(distances, kth=self.n_neighbors, axis=1)\n",
    "        return indices[:, :self.n_neighbors]\n",
    "    \n",
    "    def _fit_kdtree(self):\n",
    "        self._tree = KDTree(self.X_train, 30, metric='euclidean')\n",
    "    \n",
    "    def _predict_kdtree(self, X):\n",
    "        indices = self._tree.query(X, k=self.n_neighbors, return_distance=False)\n",
    "        return indices[:, :self.n_neighbors]\n",
    "\n",
    "    _KNN_SUPPORTED_ALGORITHMS = {\n",
    "        \"brute\": {\"fit\": _fit_brute, \"predict\": _predict_brute},\n",
    "        \"kd_tree\": {\"fit\": _fit_kdtree, \"predict\": _predict_kdtree},\n",
    "    }\n",
    "    \n",
    "    def _initcheck(self):\n",
    "        if self.n_neighbors < 1:\n",
    "            raise ValueError(f\"n_neighbors (={self.n_neighbors}) should be a positive integer!\")\n",
    "        if self.algorithm not in self._KNN_SUPPORTED_ALGORITHMS:\n",
    "            raise ValueError(f\"Algorithm {self.algorithm} isn't supported!\")\n",
    "\n",
    "    def __init__(self, n_neighbors: int = 1, algorithm=\"brute\"):\n",
    "        self.n_neighbors = n_neighbors\n",
    "        self.algorithm = algorithm\n",
    "        self._initcheck()\n",
    "        self._effective_algorithm = self._KNN_SUPPORTED_ALGORITHMS[self.algorithm]\n",
    "    \n",
    "    def fit(self, X, y):\n",
    "        if self.n_neighbors > X.shape[0]:\n",
    "            raise ValueError(f\"neighbors: {self.n_neighbors} > samples: {X.shape[0]}\")\n",
    "        if X.shape[0] != y.shape[0]:\n",
    "            raise ValueError(f\"data samples: {X.shape[0]} != target samples: {y.shape[0]}\")\n",
    "        self.X_train = X.copy()\n",
    "        self.y_train = y.copy()\n",
    "        self._effective_algorithm[\"fit\"](self)\n",
    "    \n",
    "    def predict(self, X):\n",
    "        if self.X_train.shape[1:] != X.shape[1:]:\n",
    "            raise ValueError(f\"Train features {self.X_train.shape} doesn't match {X.shape}\")\n",
    "        indices = self._effective_algorithm[\"predict\"](self, X)\n",
    "        neibs = self.y_train[indices[:, :self.n_neighbors]]\n",
    "        y_pred = stats.mode(neibs, axis=1)[0]\n",
    "        return y_pred.reshape((-1, ))\n",
    "    \n"
   ]
  },
  {
   "cell_type": "markdown",
   "metadata": {},
   "source": [
    "**IRIS**\n",
    "\n",
    "В библиотеке scikit-learn есть несколько датасетов из коробки. Один из них [Ирисы Фишера](https://ru.wikipedia.org/wiki/%D0%98%D1%80%D0%B8%D1%81%D1%8B_%D0%A4%D0%B8%D1%88%D0%B5%D1%80%D0%B0)"
   ]
  },
  {
   "cell_type": "code",
   "execution_count": 3,
   "metadata": {
    "tags": []
   },
   "outputs": [],
   "source": [
    "iris = datasets.load_iris()"
   ]
  },
  {
   "cell_type": "code",
   "execution_count": 4,
   "metadata": {
    "tags": []
   },
   "outputs": [],
   "source": [
    "X_train, X_test, y_train, y_test = train_test_split(iris.data, iris.target, test_size=0.1, stratify=iris.target)"
   ]
  },
  {
   "cell_type": "code",
   "execution_count": 5,
   "metadata": {
    "tags": []
   },
   "outputs": [],
   "source": [
    "clf = KNeighborsClassifier(n_neighbors=2, algorithm='brute')\n",
    "my_clf = MyKNeighborsClassifier(n_neighbors=2, algorithm='brute')"
   ]
  },
  {
   "cell_type": "code",
   "execution_count": 6,
   "metadata": {
    "tags": []
   },
   "outputs": [],
   "source": [
    "clf.fit(X_train, y_train)\n",
    "my_clf.fit(X_train, y_train)"
   ]
  },
  {
   "cell_type": "code",
   "execution_count": 7,
   "metadata": {
    "tags": []
   },
   "outputs": [],
   "source": [
    "sklearn_pred = clf.predict(X_test)\n",
    "my_clf_pred = my_clf.predict(X_test)\n",
    "assert abs( accuracy_score(y_test, my_clf_pred) -  accuracy_score(y_test, sklearn_pred ) )<0.005, \"Score must be simillar\""
   ]
  },
  {
   "cell_type": "markdown",
   "metadata": {},
   "source": [
    "### Задание 2 (0.5 балла)\n",
    "\n",
    "Давайте попробуем добиться скорости работы на fit, predict сравнимой со sklearn для iris. Допускается замедление не более чем в 2 раза. \n",
    "Для этого используем numpy. "
   ]
  },
  {
   "cell_type": "code",
   "execution_count": 9,
   "metadata": {
    "tags": []
   },
   "outputs": [
    {
     "name": "stdout",
     "output_type": "stream",
     "text": [
      "CPU times: user 429 µs, sys: 0 ns, total: 429 µs\n",
      "Wall time: 307 µs\n"
     ]
    },
    {
     "data": {
      "text/plain": [
       "KNeighborsClassifier(algorithm='brute', n_neighbors=2)"
      ]
     },
     "execution_count": 9,
     "metadata": {},
     "output_type": "execute_result"
    }
   ],
   "source": [
    "%time clf.fit(X_train, y_train)"
   ]
  },
  {
   "cell_type": "code",
   "execution_count": 10,
   "metadata": {
    "tags": []
   },
   "outputs": [
    {
     "name": "stdout",
     "output_type": "stream",
     "text": [
      "CPU times: user 38 µs, sys: 0 ns, total: 38 µs\n",
      "Wall time: 31 µs\n"
     ]
    }
   ],
   "source": [
    "%time my_clf.fit(X_train, y_train)"
   ]
  },
  {
   "cell_type": "code",
   "execution_count": 11,
   "metadata": {
    "tags": []
   },
   "outputs": [
    {
     "name": "stdout",
     "output_type": "stream",
     "text": [
      "CPU times: user 0 ns, sys: 1.52 ms, total: 1.52 ms\n",
      "Wall time: 1.19 ms\n"
     ]
    },
    {
     "data": {
      "text/plain": [
       "array([1, 2, 0, 0, 1, 0, 2, 0, 1, 1, 0, 2, 1, 2, 2])"
      ]
     },
     "execution_count": 11,
     "metadata": {},
     "output_type": "execute_result"
    }
   ],
   "source": [
    "%time clf.predict(X_test)"
   ]
  },
  {
   "cell_type": "code",
   "execution_count": 12,
   "metadata": {
    "tags": []
   },
   "outputs": [
    {
     "name": "stdout",
     "output_type": "stream",
     "text": [
      "CPU times: user 874 µs, sys: 244 µs, total: 1.12 ms\n",
      "Wall time: 874 µs\n"
     ]
    },
    {
     "data": {
      "text/plain": [
       "array([1, 2, 0, 0, 1, 0, 2, 0, 1, 1, 0, 2, 1, 2, 2])"
      ]
     },
     "execution_count": 12,
     "metadata": {},
     "output_type": "execute_result"
    }
   ],
   "source": [
    "%time my_clf.predict(X_test)"
   ]
  },
  {
   "cell_type": "markdown",
   "metadata": {},
   "source": [
    "### Задание 3 (1 балл)\n",
    "Добавьте algorithm='kd_tree' в реализацию KNN (использовать KDTree из sklearn.neighbors). Необходимо добиться скорости работы на fit,  predict сравнимой со sklearn для iris. Допускается замедление не более чем в 2 раза. \n",
    "Для этого используем numpy. Точность не должна уступать значению KNN из sklearn. "
   ]
  },
  {
   "cell_type": "code",
   "execution_count": 13,
   "metadata": {
    "tags": []
   },
   "outputs": [],
   "source": [
    "clf = KNeighborsClassifier(n_neighbors=2, algorithm='kd_tree')\n",
    "my_clf = MyKNeighborsClassifier(n_neighbors=2, algorithm='kd_tree')"
   ]
  },
  {
   "cell_type": "code",
   "execution_count": 14,
   "metadata": {
    "tags": []
   },
   "outputs": [],
   "source": [
    "X_train, X_test, y_train, y_test = train_test_split(iris.data, iris.target, test_size=0.1, stratify=iris.target)"
   ]
  },
  {
   "cell_type": "code",
   "execution_count": 15,
   "metadata": {
    "tags": []
   },
   "outputs": [
    {
     "name": "stdout",
     "output_type": "stream",
     "text": [
      "CPU times: user 730 µs, sys: 0 ns, total: 730 µs\n",
      "Wall time: 679 µs\n"
     ]
    },
    {
     "data": {
      "text/plain": [
       "KNeighborsClassifier(algorithm='kd_tree', n_neighbors=2)"
      ]
     },
     "execution_count": 15,
     "metadata": {},
     "output_type": "execute_result"
    }
   ],
   "source": [
    "%time clf.fit(X_train, y_train)"
   ]
  },
  {
   "cell_type": "code",
   "execution_count": 16,
   "metadata": {
    "tags": []
   },
   "outputs": [
    {
     "name": "stdout",
     "output_type": "stream",
     "text": [
      "CPU times: user 267 µs, sys: 74 µs, total: 341 µs\n",
      "Wall time: 234 µs\n"
     ]
    }
   ],
   "source": [
    "%time my_clf.fit(X_train, y_train)"
   ]
  },
  {
   "cell_type": "code",
   "execution_count": 17,
   "metadata": {
    "tags": []
   },
   "outputs": [
    {
     "name": "stdout",
     "output_type": "stream",
     "text": [
      "CPU times: user 1.66 ms, sys: 0 ns, total: 1.66 ms\n",
      "Wall time: 1.4 ms\n"
     ]
    },
    {
     "data": {
      "text/plain": [
       "array([2, 1, 0, 0, 0, 1, 2, 0, 2, 2, 1, 0, 1, 1, 1])"
      ]
     },
     "execution_count": 17,
     "metadata": {},
     "output_type": "execute_result"
    }
   ],
   "source": [
    "%time clf.predict(X_test)"
   ]
  },
  {
   "cell_type": "code",
   "execution_count": 18,
   "metadata": {
    "tags": []
   },
   "outputs": [
    {
     "name": "stdout",
     "output_type": "stream",
     "text": [
      "CPU times: user 1.05 ms, sys: 0 ns, total: 1.05 ms\n",
      "Wall time: 851 µs\n"
     ]
    },
    {
     "data": {
      "text/plain": [
       "array([2, 1, 0, 0, 0, 1, 2, 0, 2, 2, 1, 0, 1, 1, 1])"
      ]
     },
     "execution_count": 18,
     "metadata": {},
     "output_type": "execute_result"
    }
   ],
   "source": [
    "%time my_clf.predict(X_test)"
   ]
  },
  {
   "cell_type": "code",
   "execution_count": 19,
   "metadata": {
    "tags": []
   },
   "outputs": [],
   "source": [
    "sklearn_pred = clf.predict(X_test)\n",
    "my_clf_pred = my_clf.predict(X_test)\n",
    "assert abs( accuracy_score(y_test, my_clf_pred) -  accuracy_score(y_test, sklearn_pred ) )<0.005, \"Score must be simillar\""
   ]
  },
  {
   "cell_type": "markdown",
   "metadata": {},
   "source": [
    "### Задание 4 (2.5 балла)\n",
    "\n",
    "Рассмотрим новый датасет 20 newsgroups"
   ]
  },
  {
   "cell_type": "code",
   "execution_count": 20,
   "metadata": {
    "tags": []
   },
   "outputs": [],
   "source": [
    "newsgroups = fetch_20newsgroups(subset='train',remove=['headers','footers', 'quotes'])"
   ]
  },
  {
   "cell_type": "code",
   "execution_count": 21,
   "metadata": {
    "tags": []
   },
   "outputs": [],
   "source": [
    "data = newsgroups['data']\n",
    "target = newsgroups['target']"
   ]
  },
  {
   "cell_type": "markdown",
   "metadata": {},
   "source": [
    "Преобразуйте текстовые данные из data с помощью [CountVectorizer](https://scikit-learn.org/stable/modules/generated/sklearn.feature_extraction.text.CountVectorizer.html). Словарь можно ограничить по частотности."
   ]
  },
  {
   "cell_type": "code",
   "execution_count": 22,
   "metadata": {
    "tags": []
   },
   "outputs": [],
   "source": [
    "# векторайзеры текста\n",
    "from sklearn.feature_extraction.text import CountVectorizer, TfidfVectorizer\n",
    "\n",
    "vec_count = CountVectorizer(min_df = 1, max_df = 400, ngram_range=(1, 1))\n",
    "vec_tfidf = TfidfVectorizer(min_df = 1, max_df = 400, ngram_range=(1, 1))\n",
    "X_count = vec_count.fit_transform(data)\n",
    "X_tfidf = vec_tfidf.fit_transform(data)"
   ]
  },
  {
   "cell_type": "markdown",
   "metadata": {},
   "source": [
    "*Так мы получили векторное представление наших текстов. Значит можно приступать к задаче обучения модели*"
   ]
  },
  {
   "cell_type": "markdown",
   "metadata": {},
   "source": [
    "Реализуйте разбиение выборки для кросс-валидации на 3 фолдах. Разрешено использовать sklearn.cross_validation"
   ]
  },
  {
   "cell_type": "code",
   "execution_count": 23,
   "metadata": {
    "tags": []
   },
   "outputs": [
    {
     "name": "stdout",
     "output_type": "stream",
     "text": [
      "Metrics: euclidean\n",
      "Count score:  28.33%\n",
      "Tfidf score:  13.66%\n",
      "\n",
      "Metrics: cosine\n",
      "Count score:  57.05%\n",
      "Tfidf score:  61.69%\n",
      "\n"
     ]
    }
   ],
   "source": [
    "# кросс-валидация\n",
    "from sklearn.model_selection import cross_val_score\n",
    "\n",
    "clf = KNeighborsClassifier(n_neighbors=1, algorithm='brute')\n",
    "my_metrics = {'euclidean', 'cosine'}\n",
    "folds = 3\n",
    "\n",
    "for metric in my_metrics:\n",
    "    clf.set_params(metric=metric)\n",
    "    score_count = cross_val_score(clf, X_count, target, cv=folds).mean()\n",
    "    score_tfidf = cross_val_score(clf, X_tfidf, target, cv=folds).mean()\n",
    "    print(f\"Metrics: {metric}\\n\"\n",
    "          f\"Count score: {100 * score_count : .2f}%\\n\"\n",
    "          f\"Tfidf score: {100 * score_tfidf : .2f}%\\n\"\n",
    "         )\n"
   ]
  },
  {
   "cell_type": "markdown",
   "metadata": {},
   "source": [
    "Напишите метод, позволяющий найти оптимальное количество ближайших соседей(дающее максимальную точность в среднем на валидации на 3 фолдах).\n",
    "Постройте график зависимости средней точности от количества соседей. Можно рассмотреть число соседей от 1 до 10."
   ]
  },
  {
   "cell_type": "code",
   "execution_count": 24,
   "metadata": {
    "tags": []
   },
   "outputs": [],
   "source": [
    "def find_optimal_neighbors(X, y, search_range, folds=3):\n",
    "    \"\"\"поиск оптимального количества ближайших соседей\"\"\"\n",
    "    opt_k = 1\n",
    "    opt_score = 0.0\n",
    "    clf = KNeighborsClassifier(n_neighbors=1, algorithm='brute', metric='cosine', n_jobs=-1)\n",
    "    for k in search_range:\n",
    "        clf.set_params(n_neighbors=k)\n",
    "        score = cross_val_score(clf, X, target, cv=folds, n_jobs=-1).mean()\n",
    "        if score >= opt_score:\n",
    "            opt_k, opt_score = k, score\n",
    "        #print(f\"k: {k}, score: {score:.2f}%\")\n",
    "    return opt_k, opt_score\n",
    "    "
   ]
  },
  {
   "cell_type": "code",
   "execution_count": 30,
   "metadata": {},
   "outputs": [
    {
     "name": "stdout",
     "output_type": "stream",
     "text": [
      "Search range: range(1, 31)\n",
      "Optimal K: 24\n",
      "Score: 67.66%\n"
     ]
    }
   ],
   "source": [
    "# пример работы\n",
    "search_range = range(1, 31, 1)\n",
    "optimal = find_optimal_neighbors(X_tfidf, target, search_range, folds)\n",
    "print(f\"Search range: {search_range}\\n\"\n",
    "      f\"Optimal K: {optimal[0]}\\n\"\n",
    "      f\"Score: {100 * optimal[1]:.2f}%\")"
   ]
  },
  {
   "cell_type": "code",
   "execution_count": 31,
   "metadata": {},
   "outputs": [],
   "source": [
    "# подсчёт графика зависимости средней точности от кол-ва соседей\n",
    "graph = np.empty(search_range.stop, dtype=tuple)\n",
    "clf = KNeighborsClassifier(n_neighbors=1, algorithm='brute', metric='cosine')\n",
    "for k in search_range:\n",
    "    clf.set_params(n_neighbors=k)\n",
    "    graph[k] = cross_val_score(clf, X_tfidf, target, cv=folds, n_jobs=-1).mean()"
   ]
  },
  {
   "cell_type": "code",
   "execution_count": 32,
   "metadata": {},
   "outputs": [
    {
     "data": {
      "image/png": "[encoded data removed]",
      "text/plain": [
       "<Figure size 432x288 with 1 Axes>"
      ]
     },
     "metadata": {
      "needs_background": "light"
     },
     "output_type": "display_data"
    }
   ],
   "source": [
    "# рисуем график\n",
    "plt.plot(graph)\n",
    "plt.xlabel(\"Число соседей\")\n",
    "plt.ylabel(\"Точность\")\n",
    "plt.show()"
   ]
  },
  {
   "cell_type": "markdown",
   "metadata": {},
   "source": [
    "Как изменится качество на валидации, если:\n",
    "\n",
    "1. Используется косинусная метрика вместо евклидовой.\n",
    "2. К текстам применяется TfIdf векторизацию( sklearn.feature_extraction.text.TfidfVectorizer)\n",
    "\n",
    "Сравните модели, выберите лучшую."
   ]
  },
  {
   "cell_type": "markdown",
   "metadata": {},
   "source": [
    "Загрузим  теперь test  часть нашей выборки и преобразуем её аналогично с train частью. Не забудьте, что наборы слов в train и test части могут отличаться."
   ]
  },
  {
   "cell_type": "code",
   "execution_count": 33,
   "metadata": {
    "tags": []
   },
   "outputs": [],
   "source": [
    "newsgroups = fetch_20newsgroups(subset='test',remove=['headers','footers', 'quotes'])"
   ]
  },
  {
   "cell_type": "markdown",
   "metadata": {},
   "source": [
    "Оценим точность вашей лучшей модели на test части датасета. Отличается ли оно от кросс-валидации? Попробуйте сделать выводы, почему отличается качество."
   ]
  },
  {
   "cell_type": "code",
   "execution_count": 34,
   "metadata": {
    "tags": []
   },
   "outputs": [
    {
     "name": "stdout",
     "output_type": "stream",
     "text": [
      "Точность\n",
      " train: 67.66%\n",
      " test: 63.33%\n"
     ]
    }
   ],
   "source": [
    "# набор (tfidf, cosine, max_df=400) даёт точность выше, чем дефолтные\n",
    "X_test = vec_tfidf.transform(newsgroups['data'])\n",
    "y_test = newsgroups['target']\n",
    "\n",
    "clf = KNeighborsClassifier(n_neighbors=optimal[0], algorithm='brute', metric='cosine', n_jobs=-1)\n",
    "clf.fit(X_tfidf, target)\n",
    "\n",
    "y_pred = clf.predict(X_test)\n",
    "\n",
    "score_train = optimal[1]\n",
    "score_test = accuracy_score(y_test, y_pred)\n",
    "print(f\"Точность\\n\"\n",
    "      f\" train: {100 * score_train:.2f}%\\n\"\n",
    "      f\" test: {100 * score_test:.2f}%\")"
   ]
  },
  {
   "cell_type": "code",
   "execution_count": null,
   "metadata": {},
   "outputs": [],
   "source": []
  }
 ],
 "metadata": {
  "kernelspec": {
   "display_name": "Python 3 (ipykernel)",
   "language": "python",
   "name": "python3"
  },
  "language_info": {
   "codemirror_mode": {
    "name": "ipython",
    "version": 3
   },
   "file_extension": ".py",
   "mimetype": "text/x-python",
   "name": "python",
   "nbconvert_exporter": "python",
   "pygments_lexer": "ipython3",
   "version": "3.10.4"
  },
  "widgets": {
   "application/vnd.jupyter.widget-state+json": {
    "state": {},
    "version_major": 2,
    "version_minor": 0
   }
  }
 },
 "nbformat": 4,
 "nbformat_minor": 4
}
